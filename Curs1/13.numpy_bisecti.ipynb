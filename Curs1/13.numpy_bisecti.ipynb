{
 "cells": [
  {
   "cell_type": "code",
   "execution_count": 1,
   "metadata": {},
   "outputs": [],
   "source": [
    "import numpy as np"
   ]
  },
  {
   "cell_type": "code",
   "execution_count": 14,
   "metadata": {},
   "outputs": [],
   "source": [
    "array = np.arange(1899, 2226)"
   ]
  },
  {
   "cell_type": "code",
   "execution_count": 15,
   "metadata": {},
   "outputs": [
    {
     "data": {
      "text/plain": [
       "array([1904, 1908, 1912, 1916, 1920, 1924, 1928, 1932, 1936, 1940, 1944,\n",
       "       1948, 1952, 1956, 1960, 1964, 1968, 1972, 1976, 1980, 1984, 1988,\n",
       "       1992, 1996, 2000, 2004, 2008, 2012, 2016, 2020, 2024, 2028, 2032,\n",
       "       2036, 2040, 2044, 2048, 2052, 2056, 2060, 2064, 2068, 2072, 2076,\n",
       "       2080, 2084, 2088, 2092, 2096, 2104, 2108, 2112, 2116, 2120, 2124,\n",
       "       2128, 2132, 2136, 2140, 2144, 2148, 2152, 2156, 2160, 2164, 2168,\n",
       "       2172, 2176, 2180, 2184, 2188, 2192, 2196, 2204, 2208, 2212, 2216,\n",
       "       2220, 2224])"
      ]
     },
     "execution_count": 15,
     "metadata": {},
     "output_type": "execute_result"
    }
   ],
   "source": [
    "array[(array % 400 == 0) | (array % 4 == 0) & (array % 100 != 0)]"
   ]
  },
  {
   "cell_type": "code",
   "execution_count": 16,
   "metadata": {},
   "outputs": [
    {
     "data": {
      "text/plain": [
       "array([1904, 1908, 1912, 1916, 1920, 1924, 1928, 1932, 1936, 1940, 1944,\n",
       "       1948, 1952, 1956, 1960, 1964, 1968, 1972, 1976, 1980, 1984, 1988,\n",
       "       1992, 1996, 2000, 2004, 2008, 2012, 2016, 2020, 2024, 2028, 2032,\n",
       "       2036, 2040, 2044, 2048, 2052, 2056, 2060, 2064, 2068, 2072, 2076,\n",
       "       2080, 2084, 2088, 2092, 2096, 2104, 2108, 2112, 2116, 2120, 2124,\n",
       "       2128, 2132, 2136, 2140, 2144, 2148, 2152, 2156, 2160, 2164, 2168,\n",
       "       2172, 2176, 2180, 2184, 2188, 2192, 2196, 2204, 2208, 2212, 2216,\n",
       "       2220, 2224])"
      ]
     },
     "execution_count": 16,
     "metadata": {},
     "output_type": "execute_result"
    }
   ],
   "source": [
    "conditia_1 = array % 400 == 0\n",
    "conditia_2 = array % 4 == 0\n",
    "conditia_3 = array % 100 != 0\n",
    "\n",
    "array[conditia_1 | conditia_2 & conditia_3]"
   ]
  },
  {
   "cell_type": "code",
   "execution_count": 18,
   "metadata": {},
   "outputs": [
    {
     "data": {
      "text/plain": [
       "array([False,  True, False, False, False,  True, False, False, False,\n",
       "        True, False, False, False,  True, False, False, False,  True,\n",
       "       False, False, False,  True, False, False, False,  True, False,\n",
       "       False, False,  True, False, False, False,  True, False, False,\n",
       "       False,  True, False, False, False,  True, False, False, False,\n",
       "        True, False, False, False,  True, False, False, False,  True,\n",
       "       False, False, False,  True, False, False, False,  True, False,\n",
       "       False, False,  True, False, False, False,  True, False, False,\n",
       "       False,  True, False, False, False,  True, False, False, False,\n",
       "        True, False, False, False,  True, False, False, False,  True,\n",
       "       False, False, False,  True, False, False, False,  True, False,\n",
       "       False, False,  True, False, False, False,  True, False, False,\n",
       "       False,  True, False, False, False,  True, False, False, False,\n",
       "        True, False, False, False,  True, False, False, False,  True,\n",
       "       False, False, False,  True, False, False, False,  True, False,\n",
       "       False, False,  True, False, False, False,  True, False, False,\n",
       "       False,  True, False, False, False,  True, False, False, False,\n",
       "        True, False, False, False,  True, False, False, False,  True,\n",
       "       False, False, False,  True, False, False, False,  True, False,\n",
       "       False, False,  True, False, False, False,  True, False, False,\n",
       "       False,  True, False, False, False,  True, False, False, False,\n",
       "        True, False, False, False,  True, False, False, False,  True,\n",
       "       False, False, False,  True, False, False, False,  True, False,\n",
       "       False, False,  True, False, False, False,  True, False, False,\n",
       "       False,  True, False, False, False,  True, False, False, False,\n",
       "        True, False, False, False,  True, False, False, False,  True,\n",
       "       False, False, False,  True, False, False, False,  True, False,\n",
       "       False, False,  True, False, False, False,  True, False, False,\n",
       "       False,  True, False, False, False,  True, False, False, False,\n",
       "        True, False, False, False,  True, False, False, False,  True,\n",
       "       False, False, False,  True, False, False, False,  True, False,\n",
       "       False, False,  True, False, False, False,  True, False, False,\n",
       "       False,  True, False, False, False,  True, False, False, False,\n",
       "        True, False, False, False,  True, False, False, False,  True,\n",
       "       False, False, False,  True, False, False, False,  True, False,\n",
       "       False, False,  True, False, False, False,  True, False, False,\n",
       "       False,  True, False])"
      ]
     },
     "execution_count": 18,
     "metadata": {},
     "output_type": "execute_result"
    }
   ],
   "source": [
    "conditia_2"
   ]
  }
 ],
 "metadata": {
  "kernelspec": {
   "display_name": "Python 3",
   "language": "python",
   "name": "python3"
  },
  "language_info": {
   "codemirror_mode": {
    "name": "ipython",
    "version": 3
   },
   "file_extension": ".py",
   "mimetype": "text/x-python",
   "name": "python",
   "nbconvert_exporter": "python",
   "pygments_lexer": "ipython3",
   "version": "3.13.0"
  }
 },
 "nbformat": 4,
 "nbformat_minor": 2
}
